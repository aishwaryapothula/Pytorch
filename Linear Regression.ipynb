{
 "cells": [
  {
   "cell_type": "code",
   "execution_count": 69,
   "metadata": {},
   "outputs": [],
   "source": [
    "## LINEAR REGRESSION"
   ]
  },
  {
   "cell_type": "code",
   "execution_count": 70,
   "metadata": {},
   "outputs": [],
   "source": [
    "import torch\n",
    "import numpy as np"
   ]
  },
  {
   "cell_type": "code",
   "execution_count": 71,
   "metadata": {},
   "outputs": [],
   "source": [
    "# trying to model apple and orange yeilds from temperature, rainfall and humidity factors\n",
    "# apples = w11*temp + w12*rainfall + w13*humidity + b1\n",
    "# oranges = w21*temp + w22*rainfall + w23*humidity + b2\n",
    "# inputs (temp, rainfall, humidity)(obervations x each variable-temp,rain.humidity)\n",
    "# targets (apples, oranges) (outputs per observation x outputs-apples,oranges)\n",
    "inputs = torch.tensor([[73, 67, 43],\n",
    "                       [91, 88, 64],\n",
    "                       [87, 134, 58],\n",
    "                       [102, 43, 37],\n",
    "                       [69, 96, 70]], dtype = torch.float32)\n",
    "\n",
    "targets = torch.tensor([[56, 70],\n",
    "                        [81, 101],\n",
    "                        [119, 133],\n",
    "                        [22, 37],\n",
    "                        [103, 119]], dtype = torch.float32)\n"
   ]
  },
  {
   "cell_type": "code",
   "execution_count": 72,
   "metadata": {},
   "outputs": [
    {
     "name": "stdout",
     "output_type": "stream",
     "text": [
      "tensor([[ 73.,  67.,  43.],\n",
      "        [ 91.,  88.,  64.],\n",
      "        [ 87., 134.,  58.],\n",
      "        [102.,  43.,  37.],\n",
      "        [ 69.,  96.,  70.]])\n",
      "tensor([[ 56.,  70.],\n",
      "        [ 81., 101.],\n",
      "        [119., 133.],\n",
      "        [ 22.,  37.],\n",
      "        [103., 119.]])\n",
      "torch.Size([5, 3])\n",
      "torch.Size([5, 2])\n"
     ]
    }
   ],
   "source": [
    "# display inputs and targets\n",
    "print(inputs)\n",
    "print(targets)\n",
    "print(inputs.size())\n",
    "print(targets.size())"
   ]
  },
  {
   "cell_type": "code",
   "execution_count": 73,
   "metadata": {},
   "outputs": [
    {
     "name": "stdout",
     "output_type": "stream",
     "text": [
      "tensor([[ 0.6733,  1.0448, -1.0625],\n",
      "        [-0.6036, -0.6970, -2.2284]], requires_grad=True)\n",
      "tensor([-0.6762,  1.7396], requires_grad=True)\n"
     ]
    }
   ],
   "source": [
    "# random initialization of weights and biases\n",
    "# we are interested in how yeild changes w.r.t weights and bisases so grad is required for w and b\n",
    "w = torch.randn(2, 3, requires_grad = True) #(no of outputs x no of variables)\n",
    "b = torch.randn(2, requires_grad = True)\n",
    "print(w)\n",
    "print(b)"
   ]
  },
  {
   "cell_type": "code",
   "execution_count": 74,
   "metadata": {},
   "outputs": [],
   "source": [
    "# defining the model\n",
    "def model(x):\n",
    "    return x @ w.t() + b"
   ]
  },
  {
   "cell_type": "code",
   "execution_count": 75,
   "metadata": {},
   "outputs": [
    {
     "name": "stdout",
     "output_type": "stream",
     "text": [
      "tensor([[  72.7840, -184.8402],\n",
      "        [  84.5304, -257.1379],\n",
      "        [ 136.2710, -273.4130],\n",
      "        [  73.6098, -172.2461],\n",
      "        [  71.7014, -262.8057]], grad_fn=<AddBackward0>) torch.Size([5, 2])\n"
     ]
    }
   ],
   "source": [
    "# generate predictions\n",
    "preds = model(inputs)\n",
    "print(preds, preds.size())"
   ]
  },
  {
   "cell_type": "code",
   "execution_count": 76,
   "metadata": {},
   "outputs": [],
   "source": [
    "# As we started with random weights and biases, the predictions are not perfect\n",
    "# Loss function- using mean sqaure error- avg of sq of differences\n",
    "# MSE loss\n",
    "def mse(t1, t2):\n",
    "    diff = t1 - t2\n",
    "    # numel calculates the number of elements\n",
    "    return torch.sum(diff * diff) / diff.numel()\n",
    "\n"
   ]
  },
  {
   "cell_type": "code",
   "execution_count": 77,
   "metadata": {},
   "outputs": [
    {
     "name": "stdout",
     "output_type": "stream",
     "text": [
      "tensor(484.3190, grad_fn=<DivBackward0>)\n",
      "tensor([[ 61.8627,  76.4614],\n",
      "        [ 73.1147,  89.7703],\n",
      "        [131.8174, 147.8629],\n",
      "        [ 47.8083,  69.5492],\n",
      "        [ 70.3725,  81.5364]], grad_fn=<AddBackward0>)\n",
      "tensor([[ 56.,  70.],\n",
      "        [ 81., 101.],\n",
      "        [119., 133.],\n",
      "        [ 22.,  37.],\n",
      "        [103., 119.]])\n"
     ]
    }
   ],
   "source": [
    "# training the model. \n",
    "# set the number of interations for training-updating weights so that loss is minumum\n",
    "# in each interation the following happens\n",
    "# send inputs to model\n",
    "# predictions are given\n",
    "# loss is calculated compared to target yeilds\n",
    "# gradients w.r.t to w and b are calculated\n",
    "# if gradients are positive, w, b values need to be reduced to reduce loss\n",
    "# if gradients are negative, w, b values need to be incremented to reduce loss\n",
    "# w and b values are updated accordingly\n",
    "# w, b gradients are reset to zero before another iteration as pytorch accumulates gradients\n",
    "# finally ater training print predictions and loss\n",
    "\n",
    "for i in range(100):\n",
    "    # making yeild predictions\n",
    "    preds = model(inputs)\n",
    "    # computing loss\n",
    "    loss = mse(preds, targets)\n",
    "    # computing gradients\n",
    "    loss.backward ()\n",
    "        # updating weights\n",
    "    with torch.no_grad():\n",
    "        w -= w.grad * 1e-5\n",
    "        b -= b.grad * 1e-5\n",
    "        #pytorch accumulates gradients so make them zero before another iteration\n",
    "        w.grad.zero_()\n",
    "        b.grad.zero_()\n",
    "print(loss)\n",
    "print(preds)\n",
    "print(targets)"
   ]
  }
 ],
 "metadata": {
  "kernelspec": {
   "display_name": "Python 3",
   "language": "python",
   "name": "python3"
  },
  "language_info": {
   "codemirror_mode": {
    "name": "ipython",
    "version": 3
   },
   "file_extension": ".py",
   "mimetype": "text/x-python",
   "name": "python",
   "nbconvert_exporter": "python",
   "pygments_lexer": "ipython3",
   "version": "3.6.8"
  }
 },
 "nbformat": 4,
 "nbformat_minor": 2
}
