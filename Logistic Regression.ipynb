{
 "cells": [
  {
   "cell_type": "code",
   "execution_count": 26,
   "metadata": {},
   "outputs": [
    {
     "name": "stdout",
     "output_type": "stream",
     "text": [
      "Requirement already satisfied: torchvision in ./venv/lib/python3.6/site-packages (0.3.0)\n",
      "Requirement already satisfied: torch>=1.1.0 in ./venv/lib/python3.6/site-packages (from torchvision) (1.1.0.post2)\n",
      "Requirement already satisfied: six in ./venv/lib/python3.6/site-packages (from torchvision) (1.12.0)\n",
      "Requirement already satisfied: numpy in ./venv/lib/python3.6/site-packages (from torchvision) (1.16.4)\n",
      "Requirement already satisfied: pillow>=4.1.1 in ./venv/lib/python3.6/site-packages (from torchvision) (6.1.0)\n",
      "Note: you may need to restart the kernel to use updated packages.\n"
     ]
    }
   ],
   "source": [
    "pip install torchvision"
   ]
  },
  {
   "cell_type": "code",
   "execution_count": 27,
   "metadata": {},
   "outputs": [],
   "source": [
    "import torch\n",
    "import torchvision\n",
    "from torchvision.datasets import MNIST"
   ]
  },
  {
   "cell_type": "code",
   "execution_count": 28,
   "metadata": {},
   "outputs": [],
   "source": [
    "dataset = MNIST(root = 'data/', download = True)"
   ]
  },
  {
   "cell_type": "code",
   "execution_count": 29,
   "metadata": {},
   "outputs": [
    {
     "data": {
      "text/plain": [
       "60000"
      ]
     },
     "execution_count": 29,
     "metadata": {},
     "output_type": "execute_result"
    }
   ],
   "source": [
    "# checking the length of the dataset\n",
    "# it has 60,000 images\n",
    "# Each row is an image and consists of pixel values\n",
    "\n",
    "len(dataset)"
   ]
  },
  {
   "cell_type": "code",
   "execution_count": 30,
   "metadata": {},
   "outputs": [
    {
     "data": {
      "text/plain": [
       "10000"
      ]
     },
     "execution_count": 30,
     "metadata": {},
     "output_type": "execute_result"
    }
   ],
   "source": [
    "# creating a test dataset\n",
    "\n",
    "test_dataset = MNIST(root = 'data/', train = False)\n",
    "len(test_dataset)"
   ]
  },
  {
   "cell_type": "code",
   "execution_count": 31,
   "metadata": {},
   "outputs": [
    {
     "data": {
      "text/plain": [
       "(<PIL.Image.Image image mode=L size=28x28 at 0x12DD51048>, 0)"
      ]
     },
     "execution_count": 31,
     "metadata": {},
     "output_type": "execute_result"
    }
   ],
   "source": [
    "# looking at a sample element in the dataset\n",
    "# Each picture/row has pixel values of size 28 x 28\n",
    "# So the total size of the dataset would be 60000 x 28 x 28\n",
    "\n",
    "dataset[1]"
   ]
  },
  {
   "cell_type": "code",
   "execution_count": 32,
   "metadata": {},
   "outputs": [
    {
     "name": "stdout",
     "output_type": "stream",
     "text": [
      "Requirement already satisfied: matplotlib in ./venv/lib/python3.6/site-packages (3.1.1)\n",
      "Requirement already satisfied: python-dateutil>=2.1 in ./venv/lib/python3.6/site-packages (from matplotlib) (2.8.0)\n",
      "Requirement already satisfied: cycler>=0.10 in ./venv/lib/python3.6/site-packages (from matplotlib) (0.10.0)\n",
      "Requirement already satisfied: pyparsing!=2.0.4,!=2.1.2,!=2.1.6,>=2.0.1 in ./venv/lib/python3.6/site-packages (from matplotlib) (2.4.0)\n",
      "Requirement already satisfied: kiwisolver>=1.0.1 in ./venv/lib/python3.6/site-packages (from matplotlib) (1.1.0)\n",
      "Requirement already satisfied: numpy>=1.11 in ./venv/lib/python3.6/site-packages (from matplotlib) (1.16.4)\n",
      "Requirement already satisfied: six>=1.5 in ./venv/lib/python3.6/site-packages (from python-dateutil>=2.1->matplotlib) (1.12.0)\n",
      "Requirement already satisfied: setuptools in ./venv/lib/python3.6/site-packages (from kiwisolver>=1.0.1->matplotlib) (41.0.1)\n",
      "Note: you may need to restart the kernel to use updated packages.\n"
     ]
    }
   ],
   "source": [
    "pip install matplotlib"
   ]
  },
  {
   "cell_type": "code",
   "execution_count": 33,
   "metadata": {},
   "outputs": [],
   "source": [
    "# viewing the image\n",
    "# download matplotlib\n",
    "# to indicate to jupyter that we want to plot the graphs inside the notebook. Otherwise a popup appears\n",
    "# statements starting with % are called ipython magig commands. They are used to configure the behaviour of the notebook\n",
    "\n",
    "import matplotlib.pyplot as plt\n",
    "%matplotlib inline \n",
    "\n"
   ]
  },
  {
   "cell_type": "code",
   "execution_count": 34,
   "metadata": {},
   "outputs": [
    {
     "name": "stdout",
     "output_type": "stream",
     "text": [
      "Label: 0\n"
     ]
    },
    {
     "data": {
      "image/png": "[encoded data removed]",
      "text/plain": [
       "<Figure size 432x288 with 1 Axes>"
      ]
     },
     "metadata": {
      "needs_background": "light"
     },
     "output_type": "display_data"
    }
   ],
   "source": [
    "image, label = dataset[1]\n",
    "plt.imshow(image)\n",
    "print('Label:', label)"
   ]
  },
  {
   "cell_type": "code",
   "execution_count": 35,
   "metadata": {},
   "outputs": [],
   "source": [
    "# Inorder for pytorch to work with these images- convert to tensors\n",
    "# PyTorch datasets allow us to specify one or more transformation functions which are applied to the images as they are loaded.\n",
    "\n",
    "import torchvision.transforms as transforms"
   ]
  },
  {
   "cell_type": "code",
   "execution_count": 36,
   "metadata": {},
   "outputs": [],
   "source": [
    "dataset = MNIST(root = 'data/', train = True,\n",
    "                transform = transforms.ToTensor())\n"
   ]
  },
  {
   "cell_type": "code",
   "execution_count": 37,
   "metadata": {},
   "outputs": [
    {
     "name": "stdout",
     "output_type": "stream",
     "text": [
      "torch.Size([1, 28, 28]) 0\n"
     ]
    }
   ],
   "source": [
    "# image will be converted to a 1 x 28 x 28 tensor\n",
    "# First dimension to hold color tracks. Since data is greyscale only 1\n",
    "\n",
    "img_tensor, label = dataset[1]\n",
    "print(img_tensor.shape, label)"
   ]
  },
  {
   "cell_type": "markdown",
   "metadata": {},
   "source": [
    "Training set - used to train the model i.e. compute the loss and adjust the weights of the model using gradient descent.\n",
    "Validation set - used to evaluate the model while training, adjust hyperparameters (learning rate etc.) and pick the best version of the model.\n",
    "Test set - used to compare different models, or different types of modeling approaches, and report the final accuracy of the model.\n"
   ]
  },
  {
   "cell_type": "code",
   "execution_count": 38,
   "metadata": {},
   "outputs": [],
   "source": [
    "# n is the dataset size and val_pct is the % of it that we want to set aside for the validation set\n",
    "  \n",
    "import numpy as np\n",
    "\n",
    "def split_indices(n, val_pct):\n",
    "    # calculating the size of the validation set\n",
    "    n_val = int(val_pct * n)\n",
    "    # np.random.permutation returns an suffled array of 60,000 since n =60,000\n",
    "    idxs = np.random.permutation(n)\n",
    "    # Picking the first to n_val indicies/rows/images for validation set\n",
    "    return idxs[n_val:], idxs[:n_val]\n"
   ]
  },
  {
   "cell_type": "code",
   "execution_count": 39,
   "metadata": {},
   "outputs": [],
   "source": [
    "train_indices, val_indices = split_indices(len(dataset), val_pct=0.2)"
   ]
  },
  {
   "cell_type": "code",
   "execution_count": 40,
   "metadata": {},
   "outputs": [
    {
     "name": "stdout",
     "output_type": "stream",
     "text": [
      "48000 12000\n",
      "Sample val indices:  [  868 40324 49111 20815  9705 48535 16058 55472 22799  8760 15131 24157\n",
      " 12320 25544 14331 50157 25852 24195 34635 19171]\n"
     ]
    }
   ],
   "source": [
    "print(len(train_indices), len(val_indices))\n",
    "# just to see a sample of the shiffled indices\n",
    "print('Sample val indices: ', val_indices[:20])"
   ]
  },
  {
   "cell_type": "code",
   "execution_count": 41,
   "metadata": {},
   "outputs": [],
   "source": [
    "# we need to create dataloaders for the training and validation sets\n",
    "# we need to enable a subset random sampler which samples elements randomly\n",
    "\n",
    "from torch.utils.data.sampler import SubsetRandomSampler\n",
    "from torch.utils.data.dataloader import DataLoader"
   ]
  },
  {
   "cell_type": "code",
   "execution_count": 42,
   "metadata": {},
   "outputs": [],
   "source": [
    "batch_size = 100\n",
    "\n",
    "# training sampler and data loader\n",
    "train_sampler = SubsetRandomSampler(train_indices)\n",
    "train_loader = DataLoader(dataset, batch_size, sampler = train_sampler)\n",
    "\n",
    "# validation sampler and data loader\n",
    "val_sampler = SubsetRandomSampler(val_indices)\n",
    "val_loader = DataLoader(dataset, batch_size, sampler = val_sampler)"
   ]
  },
  {
   "cell_type": "markdown",
   "metadata": {},
   "source": [
    "Building The Model\n",
    "pred = x @ w.t() + b\n",
    "nn.Linear accepts vectors so tensors need to be flattened out\n",
    "output will be a vector of size 10, each element giving the probability that an input belongs to the corressponding label"
   ]
  },
  {
   "cell_type": "code",
   "execution_count": 43,
   "metadata": {},
   "outputs": [],
   "source": [
    "import torch.nn as nn\n",
    "\n",
    "input_size = 28 * 28\n",
    "num_classes = 10\n",
    "\n",
    "# Logistic Regression Model\n",
    "model = nn.Linear(input_size, num_classes)"
   ]
  },
  {
   "cell_type": "code",
   "execution_count": 44,
   "metadata": {},
   "outputs": [
    {
     "name": "stdout",
     "output_type": "stream",
     "text": [
      "torch.Size([10, 784])\n"
     ]
    },
    {
     "data": {
      "text/plain": [
       "Parameter containing:\n",
       "tensor([[-0.0230,  0.0318, -0.0118,  ...,  0.0273,  0.0084, -0.0177],\n",
       "        [ 0.0035, -0.0173, -0.0316,  ...,  0.0158, -0.0279, -0.0069],\n",
       "        [-0.0058, -0.0075, -0.0054,  ...,  0.0003,  0.0330, -0.0149],\n",
       "        ...,\n",
       "        [ 0.0230,  0.0046, -0.0301,  ...,  0.0029,  0.0351,  0.0265],\n",
       "        [ 0.0256,  0.0052, -0.0222,  ...,  0.0133,  0.0271,  0.0344],\n",
       "        [ 0.0143, -0.0310,  0.0304,  ..., -0.0106,  0.0231,  0.0114]],\n",
       "       requires_grad=True)"
      ]
     },
     "execution_count": 44,
     "metadata": {},
     "output_type": "execute_result"
    }
   ],
   "source": [
    "print(model.weight.shape)\n",
    "model.weight"
   ]
  },
  {
   "cell_type": "code",
   "execution_count": 45,
   "metadata": {},
   "outputs": [
    {
     "name": "stdout",
     "output_type": "stream",
     "text": [
      "torch.Size([10])\n"
     ]
    },
    {
     "data": {
      "text/plain": [
       "Parameter containing:\n",
       "tensor([ 0.0149,  0.0157, -0.0089, -0.0089,  0.0272, -0.0351, -0.0110, -0.0325,\n",
       "        -0.0251, -0.0211], requires_grad=True)"
      ]
     },
     "execution_count": 45,
     "metadata": {},
     "output_type": "execute_result"
    }
   ],
   "source": [
    "print(model.bias.size())\n",
    "model.bias"
   ]
  },
  {
   "cell_type": "code",
   "execution_count": 48,
   "metadata": {},
   "outputs": [],
   "source": [
    "# Flattening the tensors\n",
    "# Inheriting from a super class nn.Module\n",
    "# Forward function get called when a forward pass is made\n",
    "\n",
    "class MnistModel(nn.Module):\n",
    "    def __init__(self):\n",
    "        super().__init__()\n",
    "        self.linear = nn.Linear(input_size, num_classes)\n",
    "        \n",
    "    def forward(self, xb):\n",
    "        xb = xb.reshape(-1, 784)\n",
    "        out = self.linear(xb)\n",
    "        return out\n",
    "    \n",
    "model = MnistModel()"
   ]
  },
  {
   "cell_type": "code",
   "execution_count": 49,
   "metadata": {},
   "outputs": [
    {
     "name": "stdout",
     "output_type": "stream",
     "text": [
      "torch.Size([10, 784]) torch.Size([10])\n"
     ]
    },
    {
     "data": {
      "text/plain": [
       "[Parameter containing:\n",
       " tensor([[-0.0209, -0.0280,  0.0061,  ...,  0.0230, -0.0203, -0.0143],\n",
       "         [ 0.0200,  0.0173, -0.0202,  ...,  0.0146, -0.0241, -0.0218],\n",
       "         [ 0.0326,  0.0008, -0.0124,  ..., -0.0338,  0.0017, -0.0109],\n",
       "         ...,\n",
       "         [ 0.0305, -0.0149,  0.0239,  ..., -0.0296, -0.0185,  0.0177],\n",
       "         [-0.0336, -0.0111,  0.0268,  ...,  0.0123,  0.0127,  0.0087],\n",
       "         [ 0.0199,  0.0121, -0.0056,  ...,  0.0024, -0.0053, -0.0171]],\n",
       "        requires_grad=True), Parameter containing:\n",
       " tensor([-0.0273,  0.0199,  0.0280, -0.0064,  0.0241, -0.0082,  0.0060, -0.0027,\n",
       "          0.0215, -0.0090], requires_grad=True)]"
      ]
     },
     "execution_count": 49,
     "metadata": {},
     "output_type": "execute_result"
    }
   ],
   "source": [
    "# .weight and .bias attributes are now inside linear attribute so the model does not have them\n",
    "# However, .parameters method of the model returns a list containing weights and biases and can also be used by a PyTorch Optimizer\n",
    "\n",
    "print(model.linear.weight.shape, model.linear.bias.shape)\n",
    "list(model.parameters())"
   ]
  },
  {
   "cell_type": "code",
   "execution_count": 50,
   "metadata": {},
   "outputs": [
    {
     "name": "stdout",
     "output_type": "stream",
     "text": [
      "outputs.shape :  torch.Size([100, 10])\n",
      "sample outputs :\n",
      " tensor([[ 0.3469,  0.0546,  0.3178, -0.1343,  0.0130,  0.0764, -0.1799,  0.2187,\n",
      "          0.0752,  0.0198],\n",
      "        [-0.0754,  0.1572,  0.2612, -0.1481, -0.0537,  0.1991, -0.0731,  0.2294,\n",
      "         -0.1401, -0.0736]])\n"
     ]
    }
   ],
   "source": [
    "for images, labels in train_loader:\n",
    "    outputs = model(images)\n",
    "    break\n",
    "    \n",
    "print('outputs.shape : ', outputs.shape)\n",
    "print('sample outputs :\\n', outputs[:2].data)"
   ]
  },
  {
   "cell_type": "markdown",
   "metadata": {},
   "source": [
    "For each of the 100 images (batch_size in the data loader) we get 10 outputs, one for each class. We's like the outputs to represent probabilities; for the the elements need to range from 0 to 1 and all add up to 1. To do that, we use the softmax function- e^yi/Eyj. We replace each element yi in the output row with e^yi to make eachof them positive and divide by the sum of all the replacing elements."
   ]
  },
  {
   "cell_type": "code",
   "execution_count": 51,
   "metadata": {},
   "outputs": [],
   "source": [
    "# The softmax function is included in the torch.nn.functional package and requires a dimension along which softmax is to be calculated \n",
    "\n",
    "import torch.nn.functional as F"
   ]
  },
  {
   "cell_type": "code",
   "execution_count": 52,
   "metadata": {},
   "outputs": [
    {
     "name": "stdout",
     "output_type": "stream",
     "text": [
      "sample probabilities:\n",
      " tensor([[0.1287, 0.0961, 0.1250, 0.0796, 0.0922, 0.0982, 0.0760, 0.1132, 0.0981,\n",
      "         0.0928],\n",
      "        [0.0891, 0.1124, 0.1247, 0.0828, 0.0910, 0.1172, 0.0893, 0.1208, 0.0835,\n",
      "         0.0892]])\n",
      "sum:  1.0\n"
     ]
    }
   ],
   "source": [
    "# Dim = 1 is the y-axis. Shape of outputs in 100 x 10. \n",
    "# Applying softmax along the y-axis will ensure that every slice along the direction of y will equal 1\n",
    "\n",
    "# Applying softmax to each output row\n",
    "probs = F.softmax(outputs, dim = 1)\n",
    "\n",
    "# Looking at sample probabilities\n",
    "print(\"sample probabilities:\\n\", probs[:2].data)\n",
    "\n",
    "# Adding the probabilities of an output row\n",
    "# item() to get a python number from a tensor containing a single element\n",
    "print(\"sum: \", torch.sum(probs[0]).item())\n"
   ]
  },
  {
   "cell_type": "markdown",
   "metadata": {},
   "source": [
    "we can determine the predicted label for each image by simply choosing the index of the element with the highest probability in each output row. This is done using torch.max, which returns the largest element and the index of the largest element along a particular dimension of a tensor."
   ]
  },
  {
   "cell_type": "code",
   "execution_count": 53,
   "metadata": {},
   "outputs": [
    {
     "name": "stdout",
     "output_type": "stream",
     "text": [
      "tensor([0, 2, 7, 7, 7, 7, 9, 9, 9, 9, 7, 7, 2, 0, 4, 6, 7, 8, 7, 3, 0, 8, 7, 7,\n",
      "        7, 7, 7, 0, 2, 8, 5, 4, 8, 8, 7, 0, 2, 7, 8, 2, 2, 7, 7, 8, 7, 7, 7, 7,\n",
      "        7, 7, 9, 3, 7, 0, 0, 6, 7, 7, 8, 9, 7, 5, 0, 2, 7, 0, 8, 7, 6, 5, 8, 7,\n",
      "        7, 7, 7, 9, 7, 2, 7, 0, 0, 0, 8, 2, 9, 2, 2, 2, 0, 9, 7, 7, 8, 6, 2, 8,\n",
      "        2, 7, 7, 4])\n"
     ]
    }
   ],
   "source": [
    "max_probs, preds = torch.max(probs, dim = 1)\n",
    "print(preds)"
   ]
  },
  {
   "cell_type": "code",
   "execution_count": 54,
   "metadata": {},
   "outputs": [
    {
     "data": {
      "text/plain": [
       "tensor([7, 5, 4, 9, 0, 5, 4, 0, 0, 7, 1, 1, 6, 7, 4, 8, 4, 9, 3, 0, 3, 1, 1, 6,\n",
       "        0, 7, 8, 9, 9, 2, 8, 4, 8, 6, 9, 3, 8, 5, 3, 6, 9, 8, 0, 4, 3, 5, 0, 5,\n",
       "        1, 5, 3, 0, 2, 9, 5, 3, 5, 3, 4, 4, 8, 1, 0, 0, 4, 9, 5, 7, 3, 2, 6, 2,\n",
       "        1, 9, 4, 5, 2, 2, 1, 0, 4, 4, 6, 4, 6, 9, 6, 2, 3, 7, 1, 3, 4, 2, 0, 4,\n",
       "        8, 7, 7, 7])"
      ]
     },
     "execution_count": 54,
     "metadata": {},
     "output_type": "execute_result"
    }
   ],
   "source": [
    "# comparing them with the actual outputs/labels\n",
    "labels"
   ]
  },
  {
   "cell_type": "code",
   "execution_count": 55,
   "metadata": {},
   "outputs": [],
   "source": [
    "# the predicted and actual labels are completely different because of random weight initialization.\n",
    "# we need to no train the model and adjust the weights using gradient descent"
   ]
  },
  {
   "cell_type": "markdown",
   "metadata": {},
   "source": [
    "Evaluation Metric and Loss Function\n",
    "\n",
    "Just as with linear regression, we need a way to evaluate how well our model is \n",
    "performing. A natural way to do this would be to find the percentage of labels \n",
    "that were predicted correctly i.e. the accuracy of the predictions."
   ]
  },
  {
   "cell_type": "code",
   "execution_count": 56,
   "metadata": {},
   "outputs": [],
   "source": [
    "def accuracy(l1, l2):\n",
    "    return torch.sum(l1 == l2).item() / len(l1)"
   ]
  },
  {
   "cell_type": "markdown",
   "metadata": {},
   "source": [
    "The == performs an element-wise comparison of two tensors with the same shape, and returns a tensor of the same shape, containing 0s for unequal elements, and 1s for equal elements. Passing the result to torch.sum returns the number of labels that were predicted correctly. Finally, we divide by the total number of images to get the accuracy.\n",
    "\n",
    "Let's calculate the accuracy of the current model, on the first batch of data. Obviously, we expect it to be pretty bad.\n",
    "\n"
   ]
  },
  {
   "cell_type": "code",
   "execution_count": 57,
   "metadata": {},
   "outputs": [
    {
     "data": {
      "text/plain": [
       "0.11"
      ]
     },
     "execution_count": 57,
     "metadata": {},
     "output_type": "execute_result"
    }
   ],
   "source": [
    "accuracy(preds, labels)"
   ]
  },
  {
   "cell_type": "markdown",
   "metadata": {},
   "source": [
    "While the accuracy is a great way for us (humans) to evaluate the model, it can't be used as a loss function for optimizing our model using gradient descent, for the following reasons:\n",
    "\n",
    "It's not a differentiable function. torch.max and == are both non-continuous and non-differentiable operations, so we can't use the accuracy for computing gradients w.r.t the weights and biases.\n",
    "\n",
    "It doesn't take into account the actual probabilities predicted by the model, so it can't provide sufficient feedback for incremental improvements.\n",
    "\n",
    "Due to these reasons, accuracy is a great evaluation metric for classification, but not a good loss function. A commonly used loss function for classification problems is the cross entropy, which has the following formula:\n",
    "\n",
    "cross-entropy\n",
    "\n",
    "While it looks complicated, it's actually quite simple:\n",
    "\n",
    "For each output row, pick the predicted probability for the correct label. E.g. if the predicted probabilities for an image are [0.1, 0.3, 0.2, ...] and the correct label is 1, we pick the corresponding element 0.3 and ignore the rest.\n",
    "\n",
    "Then, take the logarithm of the picked probability. If the probability is high i.e. close to 1, then its logarithm is a very small negative value, close to 0. And if the probability is low (close to 0), then the logarithm is a very large negative value. We also multiply the result by -1, which results is a large postive value of the loss for poor predictions.\n",
    "\n",
    "Finally, take the average of the cross entropy across all the output rows to get the overall loss for a batch of data.\n",
    "\n",
    "Unlike accuracy, cross-entropy is a continuous and differentiable function that also provides good feedback for incremental improvements in the model (a slightly higher probability for the correct label leads to a lower loss). This makes it a good choice for the loss function.\n",
    "\n",
    "As you might expect, PyTorch provides an efficient and tensor-friendly implementation of cross entropy as part of the torch.nn.functional package. Moreover, it also performs softmax internally, so we can directly pass in the outputs of the model without converting them into probabilities."
   ]
  },
  {
   "cell_type": "code",
   "execution_count": 58,
   "metadata": {},
   "outputs": [],
   "source": [
    "loss_fn = F.cross_entropy"
   ]
  },
  {
   "cell_type": "code",
   "execution_count": 59,
   "metadata": {},
   "outputs": [
    {
     "name": "stdout",
     "output_type": "stream",
     "text": [
      "tensor(2.3046, grad_fn=<NllLossBackward>)\n"
     ]
    }
   ],
   "source": [
    "# Loss for the current batch of data\n",
    "\n",
    "loss = loss_fn(outputs, labels)\n",
    "print(loss)"
   ]
  },
  {
   "cell_type": "markdown",
   "metadata": {},
   "source": [
    "Since the cross entropy is the negative logarithm of the predicted probability of the correct label averaged over all training samples, one way to interpret the resulting number e.g. 2.23 is look at e^-2.23 which is around 0.1 as the predicted probability of the correct label, on average. Lower the loss, better the model."
   ]
  },
  {
   "cell_type": "markdown",
   "metadata": {},
   "source": [
    "Optimizer\n",
    "\n",
    "use the optim.SGD optimizer to update the weights and biases during training, but with a higher learning rate of 1e-3"
   ]
  },
  {
   "cell_type": "code",
   "execution_count": 60,
   "metadata": {},
   "outputs": [],
   "source": [
    "learning_rate = 0.001\n",
    "optimizer = torch.optim.SGD(model.parameters(), lr = learning_rate)"
   ]
  },
  {
   "cell_type": "markdown",
   "metadata": {},
   "source": [
    "Training the model\n",
    "\n",
    "\n",
    "Now that we have defined the data loaders, model, loss function and optimizer, we are ready to train the model. The training process is almost identical to linear regression. However, we'll augment the fit function we defined earlier to evaluate the model's accuracy and loss using the validation set at the end of every epoch.\n",
    "\n",
    "We begin by defining a function loss_batch which:\n",
    "\n",
    "calculates the loss for a batch of data\n",
    "optionally perform the gradient descent update step if an optimizer is provided\n",
    "optionally computes a metric (e.g. accuracy) using the predictions and actual targets"
   ]
  },
  {
   "cell_type": "code",
   "execution_count": 61,
   "metadata": {},
   "outputs": [],
   "source": [
    "def loss_batch(model, loss_func, xb, yb, opt=None, metric=None):\n",
    "    # Calculate loss\n",
    "    preds = model(xb)\n",
    "    loss = loss_func(preds, yb)\n",
    "                     \n",
    "    if opt is not None:\n",
    "        # Compute gradients\n",
    "        loss.backward()\n",
    "        # Update parameters             \n",
    "        opt.step()\n",
    "        # Reset gradients\n",
    "        opt.zero_grad()\n",
    "    \n",
    "    metric_result = None\n",
    "    if metric is not None:\n",
    "        # Compute the metric\n",
    "        metric_result = metric(preds, yb)\n",
    "    \n",
    "    return loss.item(), len(xb), metric_result"
   ]
  },
  {
   "cell_type": "markdown",
   "metadata": {},
   "source": [
    "The optimizer is an optional argument, to ensure that we can reuse loss_batch for computing the loss on the validation set. We also return the length of the batch as part of the result, as it'll be useful while combining the losses/metrics for the entire dataset.\n",
    "\n",
    "Next we define an evaluate function, which calculates the overall loss (and a metric, if provided) for the validation set."
   ]
  },
  {
   "cell_type": "code",
   "execution_count": 62,
   "metadata": {},
   "outputs": [],
   "source": [
    "def evaluate(model, loss_fn, valid_dl, metric=None):\n",
    "    with torch.no_grad():\n",
    "        # Pass each batch through the model\n",
    "        results = [loss_batch(model, loss_fn, xb, yb, metric=metric)\n",
    "                   for xb,yb in valid_dl]\n",
    "        # Separate losses, counts and metrics\n",
    "        losses, nums, metrics = zip(*results)\n",
    "        # Total size of the dataset\n",
    "        total = np.sum(nums)\n",
    "        # Avg. loss across batches \n",
    "        avg_loss = np.sum(np.multiply(losses, nums)) / total\n",
    "        avg_metric = None\n",
    "        if metric is not None:\n",
    "            # Avg. of metric across batches\n",
    "            avg_metric = np.sum(np.multiply(metrics, nums)) / total\n",
    "    return avg_loss, total, avg_metric"
   ]
  },
  {
   "cell_type": "markdown",
   "metadata": {},
   "source": [
    "If it's not immediately clear what this function does, try executing each statement in a separate cell, and look the results. We also need to redefine the accuracy to operate on an entire batch of outputs directly, so that we can use it as a metric in fit."
   ]
  },
  {
   "cell_type": "code",
   "execution_count": 63,
   "metadata": {},
   "outputs": [],
   "source": [
    "def accuracy(outputs, labels):\n",
    "    _, preds = torch.max(outputs, dim=1)\n",
    "    return torch.sum(preds == labels).item() / len(preds)"
   ]
  },
  {
   "cell_type": "markdown",
   "metadata": {},
   "source": [
    "Note that we don't need to apply softmax to the outputs, since it doesn't change the relative order of the results. This is because e^x is an increasing function i.e. if y1 > y2, then e^y1 > e^y2 and the same holds true after averaging out the values to get the softmax.\n",
    "\n",
    "Let's see how the model performs on the validation set with the initial set of weights and biases."
   ]
  },
  {
   "cell_type": "code",
   "execution_count": 64,
   "metadata": {},
   "outputs": [
    {
     "name": "stdout",
     "output_type": "stream",
     "text": [
      "Loss: 2.2878, Accuracy: 0.1180\n"
     ]
    }
   ],
   "source": [
    "val_loss, total, val_acc = evaluate(model, loss_fn, val_loader, metric=accuracy)\n",
    "print('Loss: {:.4f}, Accuracy: {:.4f}'.format(val_loss, val_acc))"
   ]
  },
  {
   "cell_type": "markdown",
   "metadata": {},
   "source": [
    "The initial accuracy is below 10%, which is what one might expect from a randomly intialized model (since it has a 1 in 10 chance of getting a label right by guessing randomly). Also note that we are using the .format method with the message string to print only the first four digits after the decimal point.\n",
    "\n",
    "We can now define the fit function quite easily using loss_batch and evaluate."
   ]
  },
  {
   "cell_type": "code",
   "execution_count": 65,
   "metadata": {},
   "outputs": [],
   "source": [
    "def fit(epochs, model, loss_fn, opt, train_dl, valid_dl, metric=None):\n",
    "    for epoch in range(epochs):\n",
    "        # Training\n",
    "        for xb,yb in train_dl:\n",
    "            loss,_,_ = loss_batch(model, loss_fn, xb, yb, opt)\n",
    "\n",
    "        # Evaluation\n",
    "        result = evaluate(model, loss_fn, valid_dl, metric)\n",
    "        val_loss, total, val_metric = result\n",
    "        \n",
    "        # Print progress\n",
    "        if metric is None:\n",
    "            print('Epoch [{}/{}], Loss: {:.4f}'\n",
    "                  .format(epoch+1, epochs, val_loss))\n",
    "        else:\n",
    "            print('Epoch [{}/{}], Loss: {:.4f}, {}: {:.4f}'\n",
    "                  .format(epoch+1, epochs, val_loss, metric.__name__, val_metric))"
   ]
  },
  {
   "cell_type": "code",
   "execution_count": 66,
   "metadata": {},
   "outputs": [],
   "source": [
    "# Redifine model and optimizer\n",
    "model = MnistModel()\n",
    "optimizer = torch.optim.SGD(model.parameters(), lr=learning_rate)"
   ]
  },
  {
   "cell_type": "code",
   "execution_count": 67,
   "metadata": {},
   "outputs": [
    {
     "name": "stdout",
     "output_type": "stream",
     "text": [
      "Epoch [1/5], Loss: 1.8644, accuracy: 0.6578\n",
      "Epoch [2/5], Loss: 1.5703, accuracy: 0.7539\n",
      "Epoch [3/5], Loss: 1.3644, accuracy: 0.7807\n",
      "Epoch [4/5], Loss: 1.2164, accuracy: 0.7965\n",
      "Epoch [5/5], Loss: 1.1066, accuracy: 0.8089\n"
     ]
    }
   ],
   "source": [
    "fit(5, model, F.cross_entropy, optimizer, train_loader, val_loader, accuracy)"
   ]
  },
  {
   "cell_type": "code",
   "execution_count": 68,
   "metadata": {},
   "outputs": [
    {
     "name": "stdout",
     "output_type": "stream",
     "text": [
      "Epoch [1/5], Loss: 1.0224, accuracy: 0.8163\n",
      "Epoch [2/5], Loss: 0.9561, accuracy: 0.8207\n",
      "Epoch [3/5], Loss: 0.9024, accuracy: 0.8261\n",
      "Epoch [4/5], Loss: 0.8582, accuracy: 0.8300\n",
      "Epoch [5/5], Loss: 0.8210, accuracy: 0.8341\n"
     ]
    }
   ],
   "source": [
    "fit(5, model, F.cross_entropy, optimizer, train_loader, val_loader, accuracy)"
   ]
  },
  {
   "cell_type": "code",
   "execution_count": 69,
   "metadata": {},
   "outputs": [
    {
     "name": "stdout",
     "output_type": "stream",
     "text": [
      "Epoch [1/5], Loss: 0.7893, accuracy: 0.8375\n",
      "Epoch [2/5], Loss: 0.7619, accuracy: 0.8405\n",
      "Epoch [3/5], Loss: 0.7380, accuracy: 0.8436\n",
      "Epoch [4/5], Loss: 0.7168, accuracy: 0.8463\n",
      "Epoch [5/5], Loss: 0.6981, accuracy: 0.8495\n"
     ]
    }
   ],
   "source": [
    "fit(5, model, F.cross_entropy, optimizer, train_loader, val_loader, accuracy)"
   ]
  },
  {
   "cell_type": "code",
   "execution_count": 70,
   "metadata": {},
   "outputs": [
    {
     "name": "stdout",
     "output_type": "stream",
     "text": [
      "Epoch [1/5], Loss: 0.6812, accuracy: 0.8509\n",
      "Epoch [2/5], Loss: 0.6661, accuracy: 0.8527\n",
      "Epoch [3/5], Loss: 0.6523, accuracy: 0.8543\n",
      "Epoch [4/5], Loss: 0.6397, accuracy: 0.8558\n",
      "Epoch [5/5], Loss: 0.6282, accuracy: 0.8572\n"
     ]
    }
   ],
   "source": [
    "fit(5, model, F.cross_entropy, optimizer, train_loader, val_loader, accuracy)"
   ]
  },
  {
   "cell_type": "code",
   "execution_count": null,
   "metadata": {},
   "outputs": [],
   "source": [
    "fit(5, model, F.cross_entropy, optimizer, train_loader, val_loader, accuracy)"
   ]
  }
 ],
 "metadata": {
  "kernelspec": {
   "display_name": "Python 3",
   "language": "python",
   "name": "python3"
  },
  "language_info": {
   "codemirror_mode": {
    "name": "ipython",
    "version": 3
   },
   "file_extension": ".py",
   "mimetype": "text/x-python",
   "name": "python",
   "nbconvert_exporter": "python",
   "pygments_lexer": "ipython3",
   "version": "3.6.8"
  }
 },
 "nbformat": 4,
 "nbformat_minor": 2
}
