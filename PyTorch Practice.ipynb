{
 "cells": [
  {
   "cell_type": "code",
   "execution_count": 43,
   "metadata": {},
   "outputs": [],
   "source": [
    "import torch"
   ]
  },
  {
   "cell_type": "code",
   "execution_count": 3,
   "metadata": {},
   "outputs": [
    {
     "name": "stdout",
     "output_type": "stream",
     "text": [
      "Help on built-in function randn_like:\n",
      "\n",
      "randn_like(...)\n",
      "    randn_like(input, dtype=None, layout=None, device=None, requires_grad=False) -> Tensor\n",
      "    \n",
      "    Returns a tensor with the same size as :attr:`input` that is filled with\n",
      "    random numbers from a normal distribution with mean 0 and variance 1.\n",
      "    ``torch.randn_like(input)`` is equivalent to\n",
      "    ``torch.randn(input.size(), dtype=input.dtype, layout=input.layout, device=input.device)``.\n",
      "    \n",
      "    Args:\n",
      "        input (Tensor): the size of :attr:`input` will determine size of the output tensor\n",
      "        dtype (:class:`torch.dtype`, optional): the desired data type of returned Tensor.\n",
      "            Default: if ``None``, defaults to the dtype of :attr:`input`.\n",
      "        layout (:class:`torch.layout`, optional): the desired layout of returned tensor.\n",
      "            Default: if ``None``, defaults to the layout of :attr:`input`.\n",
      "        device (:class:`torch.device`, optional): the desired device of returned tensor.\n",
      "            Default: if ``None``, defaults to the device of :attr:`input`.\n",
      "        requires_grad (bool, optional): If autograd should record operations on the\n",
      "            returned tensor. Default: ``False``.\n",
      "\n"
     ]
    }
   ],
   "source": [
    "help(torch.randn_like)"
   ]
  },
  {
   "cell_type": "code",
   "execution_count": 12,
   "metadata": {},
   "outputs": [
    {
     "name": "stdout",
     "output_type": "stream",
     "text": [
      "tensor([[ 0.0000e+00, -1.5846e+29,  0.0000e+00, -1.5846e+29,  5.6052e-45],\n",
      "        [ 0.0000e+00,  0.0000e+00,  0.0000e+00,  0.0000e+00,  0.0000e+00],\n",
      "        [ 0.0000e+00,  0.0000e+00,  3.0854e-14, -3.6902e+19,  3.1322e-14]])\n"
     ]
    }
   ],
   "source": [
    "#constructs a (3,5) empty tensor with garbage values\n",
    "x = torch.empty(3, 5)\n",
    "print(x)"
   ]
  },
  {
   "cell_type": "code",
   "execution_count": 15,
   "metadata": {},
   "outputs": [
    {
     "name": "stdout",
     "output_type": "stream",
     "text": [
      "tensor([[0.8161, 0.7455, 0.5429, 0.2420, 0.8490],\n",
      "        [0.6665, 0.0304, 0.5690, 0.1335, 0.2071],\n",
      "        [0.2339, 0.1517, 0.8671, 0.2576, 0.7253]])\n"
     ]
    }
   ],
   "source": [
    "# constructs randomly initialized matrix of size (3,5)\n",
    "x = torch.rand(3,5)\n",
    "print (x)"
   ]
  },
  {
   "cell_type": "code",
   "execution_count": 18,
   "metadata": {},
   "outputs": [
    {
     "name": "stdout",
     "output_type": "stream",
     "text": [
      "tensor([[0., 0., 0., 0., 0.],\n",
      "        [0., 0., 0., 0., 0.],\n",
      "        [0., 0., 0., 0., 0.]], dtype=torch.float64)\n"
     ]
    }
   ],
   "source": [
    "#constructs a matrix filled with 0s with specified datatype\n",
    "x = torch.zeros(3, 5, dtype = torch.double)\n",
    "print (x)"
   ]
  },
  {
   "cell_type": "code",
   "execution_count": 22,
   "metadata": {},
   "outputs": [
    {
     "name": "stdout",
     "output_type": "stream",
     "text": [
      "tensor([[1., 1., 1., 1., 1.],\n",
      "        [1., 1., 1., 1., 1.],\n",
      "        [1., 1., 1., 1., 1.]], dtype=torch.float64)\n",
      "tensor([[ 0.6728, -0.4301, -0.6048, -0.4645, -0.5008],\n",
      "        [-0.8935, -0.1885, -0.2643,  0.7556,  1.0974],\n",
      "        [-0.8662, -1.3941, -0.9596,  0.3617,  0.4326]])\n"
     ]
    }
   ],
   "source": [
    "#contructs a tensor similar to an existing tensor\n",
    "x = x.new_ones(3, 5, dtype = torch.double)\n",
    "print (x)\n",
    "\n",
    "x = torch.randn_like(x,dtype = torch.float)\n",
    "print(x)"
   ]
  },
  {
   "cell_type": "code",
   "execution_count": 24,
   "metadata": {},
   "outputs": [
    {
     "name": "stdout",
     "output_type": "stream",
     "text": [
      "torch.Size([3, 5])\n"
     ]
    }
   ],
   "source": [
    "#use.size() to determine the size of a tensor\n",
    "print(x.size())"
   ]
  },
  {
   "cell_type": "code",
   "execution_count": 32,
   "metadata": {},
   "outputs": [
    {
     "name": "stdout",
     "output_type": "stream",
     "text": [
      "tensor([[ 0.6728, -0.4301, -0.6048, -0.4645, -0.5008],\n",
      "        [-0.8935, -0.1885, -0.2643,  0.7556,  1.0974],\n",
      "        [-0.8662, -1.3941, -0.9596,  0.3617,  0.4326]])\n",
      "tensor([[ 0.6728, -0.4301, -0.6048, -0.4645, -0.5008],\n",
      "        [-0.8935, -0.1885, -0.2643,  0.7556,  1.0974],\n",
      "        [-0.8662, -1.3941, -0.9596,  0.3617,  0.4326]])\n",
      "tensor([[ 0.6728, -0.4301, -0.6048, -0.4645, -0.5008],\n",
      "        [-0.8935, -0.1885, -0.2643,  0.7556,  1.0974],\n",
      "        [-0.8662, -1.3941, -0.9596,  0.3617,  0.4326]])\n",
      "tensor([[ 0.6728, -0.4301, -0.6048, -0.4645, -0.5008],\n",
      "        [-0.8935, -0.1885, -0.2643,  0.7556,  1.0974],\n",
      "        [-0.8662, -1.3941, -0.9596,  0.3617,  0.4326]])\n",
      "tensor([[ 0.6728, -0.4301, -0.6048, -0.4645, -0.5008],\n",
      "        [-0.8935, -0.1885, -0.2643,  0.7556,  1.0974],\n",
      "        [-0.8662, -1.3941, -0.9596,  0.3617,  0.4326]])\n"
     ]
    }
   ],
   "source": [
    "#different syntaxes for adding\n",
    "\n",
    "#1\n",
    "y = torch.zeros(3,5)\n",
    "print(x+y)\n",
    "\n",
    "#2\n",
    "print(torch.add(x, y))\n",
    "\n",
    "#3 specifying an output tensor\n",
    "result = torch.empty(3,5)\n",
    "torch.add(x, y, out = result)\n",
    "print(result)\n",
    "\n",
    "#4 using y itself as the output tensor; will modify y\n",
    "#operations use _ when changing in place\n",
    "y.add_(x)\n",
    "print(y)\n",
    "\n",
    "#experiment\n",
    "y = torch.sub(y, x)\n",
    "torch.add(x, y, out = y)\n",
    "print(y)"
   ]
  },
  {
   "cell_type": "code",
   "execution_count": 33,
   "metadata": {},
   "outputs": [],
   "source": [
    "#numpy like indexing\n",
    "x = torch.randn(4, 4)\n",
    "y = x.view(16) # number of columns\n",
    "z = x.view(-1,2) #1-1 infers the dimension to match the original number of elements. -1,2 will give 8x2;-1,4 will give 4x4.\n",
    "print(x.size(), y.size(), z.size())\n",
    "print(x)\n",
    "print(y)\n",
    "print(z)"
   ]
  },
  {
   "cell_type": "code",
   "execution_count": 35,
   "metadata": {},
   "outputs": [
    {
     "name": "stdout",
     "output_type": "stream",
     "text": [
      "tensor([1.0283])\n",
      "1.0282673835754395\n"
     ]
    }
   ],
   "source": [
    "#to get the value of a single element tensor as a python numnber use .item()\n",
    "x = torch.randn(1) #creating a single element tensor with a random number\n",
    "print(x)\n",
    "print(x.item())"
   ]
  },
  {
   "cell_type": "code",
   "execution_count": 37,
   "metadata": {},
   "outputs": [
    {
     "name": "stdout",
     "output_type": "stream",
     "text": [
      "tensor([1., 1., 1., 1., 1.])\n"
     ]
    }
   ],
   "source": [
    "#Converting torch tensor to numpy array\n",
    "a = torch.ones(5)\n",
    "print(a)"
   ]
  },
  {
   "cell_type": "code",
   "execution_count": 39,
   "metadata": {},
   "outputs": [
    {
     "name": "stdout",
     "output_type": "stream",
     "text": [
      "[1. 1. 1. 1. 1.]\n"
     ]
    }
   ],
   "source": [
    "b = a.numpy()\n",
    "print(b)"
   ]
  },
  {
   "cell_type": "code",
   "execution_count": 40,
   "metadata": {},
   "outputs": [
    {
     "name": "stdout",
     "output_type": "stream",
     "text": [
      "tensor([2., 2., 2., 2., 2.])\n",
      "[2. 2. 2. 2. 2.]\n"
     ]
    }
   ],
   "source": [
    "a.add_(1)\n",
    "print(a)\n",
    "print(b)\n",
    "#both a and b change values even though operation is performed only on a"
   ]
  },
  {
   "cell_type": "code",
   "execution_count": 46,
   "metadata": {},
   "outputs": [
    {
     "name": "stdout",
     "output_type": "stream",
     "text": [
      "[3. 3. 3. 3. 3.]\n",
      "tensor([3., 3., 3., 3., 3.], dtype=torch.float64)\n"
     ]
    }
   ],
   "source": [
    "#converting numpy array to torch tensor\n",
    "import numpy as np\n",
    "a = np.ones(5)\n",
    "b = torch.from_numpy(a)\n",
    "np.add(a, 2, out = a)\n",
    "#a and b are both modified even though operation is performed only on a\n",
    "print(a)\n",
    "print(b)"
   ]
  },
  {
   "cell_type": "code",
   "execution_count": null,
   "metadata": {},
   "outputs": [],
   "source": []
  }
 ],
 "metadata": {
  "kernelspec": {
   "display_name": "Python 3",
   "language": "python",
   "name": "python3"
  },
  "language_info": {
   "codemirror_mode": {
    "name": "ipython",
    "version": 3
   },
   "file_extension": ".py",
   "mimetype": "text/x-python",
   "name": "python",
   "nbconvert_exporter": "python",
   "pygments_lexer": "ipython3",
   "version": "3.6.8"
  }
 },
 "nbformat": 4,
 "nbformat_minor": 2
}
